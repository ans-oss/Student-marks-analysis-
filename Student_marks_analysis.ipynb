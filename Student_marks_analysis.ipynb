{
  "nbformat": 4,
  "nbformat_minor": 0,
  "metadata": {
    "colab": {
      "provenance": [],
      "authorship_tag": "ABX9TyOZae6tAWTIF6Bovwj6UMo/",
      "include_colab_link": true
    },
    "kernelspec": {
      "name": "python3",
      "display_name": "Python 3"
    },
    "language_info": {
      "name": "python"
    }
  },
  "cells": [
    {
      "cell_type": "markdown",
      "metadata": {
        "id": "view-in-github",
        "colab_type": "text"
      },
      "source": [
        "<a href=\"https://colab.research.google.com/github/ans-oss/Student-marks-analysis-/blob/main/Student_marks_analysis.ipynb\" target=\"_parent\"><img src=\"https://colab.research.google.com/assets/colab-badge.svg\" alt=\"Open In Colab\"/></a>"
      ]
    },
    {
      "cell_type": "code",
      "execution_count": null,
      "metadata": {
        "id": "ehNg23P-57Wu"
      },
      "outputs": [],
      "source": [
        "def get_marks(student_name):\n",
        "    while True:\n",
        "        try:\n",
        "            mark = float(input(f\"Enter marks for {student_name}: \"))\n",
        "            if 0 <= mark <= 100:\n",
        "                return mark\n",
        "            else:\n",
        "                print(\"Marks should be between 0 and 100. Try again.\")\n",
        "        except ValueError:\n",
        "            print(\"Invalid input. Please enter a number.\")\n",
        "\n",
        "def grade(marks):\n",
        "    if marks >= 90:\n",
        "        return \"A+\"\n",
        "    elif marks >= 80:\n",
        "        return \"A\"\n",
        "    elif marks >= 70:\n",
        "        return \"B+\"\n",
        "    elif marks >= 60:\n",
        "        return \"B\"\n",
        "    elif marks >= 50:\n",
        "        return \"C\"\n",
        "    else:\n",
        "        return \"F\"\n",
        "\n",
        "def main():\n",
        "    students = []\n",
        "    n = int(input(\"Enter number of students: \"))\n",
        "\n",
        "    for i in range(n):\n",
        "        name = input(f\"Enter name of student {i+1}: \")\n",
        "        marks = get_marks(name)\n",
        "        students.append({\"name\": name, \"marks\": marks, \"grade\": grade(marks)})\n",
        "\n",
        "    print(\"\\n--- Student Marks Analysis ---\")\n",
        "    total_marks = 0\n",
        "    highest = -1\n",
        "    lowest = 101\n",
        "\n",
        "    for student in students:\n",
        "        total_marks += student[\"marks\"]\n",
        "        highest = max(highest, student[\"marks\"])\n",
        "        lowest = min(lowest, student[\"marks\"])\n",
        "        print(f\"{student['name']} - Marks: {student['marks']}, Grade: {student['grade']}\")\n",
        "\n",
        "    average = total_marks / n\n",
        "    print(f\"\\nTotal Marks: {total_marks}\")\n",
        "    print(f\"Average Marks: {average:.2f}\")\n",
        "    print(f\"Highest Marks: {highest}\")\n",
        "    print(f\"Lowest Marks: {lowest}\")\n",
        "\n",
        "if __name__ == \"__main__\":\n",
        "    main()"
      ]
    }
  ]
}